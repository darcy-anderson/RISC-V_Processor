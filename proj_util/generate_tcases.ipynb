{
 "cells": [
  {
   "cell_type": "markdown",
   "metadata": {},
   "source": [
    "# Helper Functions and Packages"
   ]
  },
  {
   "cell_type": "code",
   "execution_count": 52,
   "metadata": {},
   "outputs": [],
   "source": [
    "from bitarray import bitarray\n",
    "from bitarray.util import ba2int\n",
    "import numpy as np"
   ]
  },
  {
   "cell_type": "code",
   "execution_count": 54,
   "metadata": {},
   "outputs": [],
   "source": [
    "def write2testfile(f, *args):\n",
    "    for arg in args:\n",
    "        f.write(arg)\n",
    "        f.write(' ')\n",
    "    f.write('\\n')"
   ]
  },
  {
   "cell_type": "markdown",
   "metadata": {},
   "source": [
    "# ALU Test Cases"
   ]
  },
  {
   "cell_type": "code",
   "execution_count": 53,
   "metadata": {},
   "outputs": [],
   "source": [
    "def sra(x,n,m):\n",
    "    if x & 2**(n-1) != 0:  # MSB is 1, i.e. x is negative\n",
    "        filler = int('1'*m + '0'*(n-m),2)\n",
    "        x = (x >> m) | filler  # fill in 0's with 1's\n",
    "        return x\n",
    "    else:\n",
    "        return x >> m"
   ]
  },
  {
   "cell_type": "code",
   "execution_count": 55,
   "metadata": {},
   "outputs": [],
   "source": [
    "def ALU(operand1, operand2, funct7, funct3):\n",
    "    '''\n",
    "    operand1 and operand2 are both bitarray.bitarray()\n",
    "    '''\n",
    "    funct = funct7+funct3\n",
    "    if funct == '0000000000':\n",
    "        temp_op1 = np.array(ba2int(operand1, signed = False), dtype='uint32')\n",
    "        temp_op2 = np.array(ba2int(operand2, signed = False), dtype='uint32')\n",
    "        result = temp_op1 + temp_op2\n",
    "        return bin(result)[2:].zfill(32)\n",
    "    elif funct == '0100000000':\n",
    "        temp_op1 = np.array(ba2int(operand1, signed = False), dtype='uint32')\n",
    "\n",
    "        temp_op2 = np.array(ba2int(operand2, signed = False), dtype='uint32')\n",
    "\n",
    "        result = temp_op1 - temp_op2\n",
    "        return bin(result)[2:].zfill(32)\n",
    "    elif funct == '0000000001':\n",
    "        result = operand1 << ba2int(operand2[-5:], signed = False)\n",
    "        return result.to01()\n",
    "    elif funct == '0000000010':\n",
    "        temp_op1 = ba2int(operand1, signed = True)\n",
    "        temp_op2 = ba2int(operand2, signed = True)\n",
    "        if temp_op1 < temp_op2:\n",
    "            return bin(1)[2:].zfill(32)\n",
    "        else:\n",
    "            return bin(0)[2:].zfill(32)\n",
    "    elif funct == '0000000011':\n",
    "        temp_op1 = ba2int(operand1, signed = False)\n",
    "        temp_op2 = ba2int(operand2, signed = False)\n",
    "        if temp_op1 < temp_op2:\n",
    "            return bin(1)[2:].zfill(32)\n",
    "        else:\n",
    "            return bin(0)[2:].zfill(32)\n",
    "    elif funct == '0000000100':\n",
    "        result = operand1 ^ operand2\n",
    "        return result.to01()\n",
    "    elif funct == '0000000101':\n",
    "        result = operand1 >> ba2int(operand2[-5:], signed = False)\n",
    "        return result.to01()\n",
    "    elif funct == '0100000101':\n",
    "        temp_op2 = ba2int(operand2[-5:], signed = False)\n",
    "        result = bin(sra(int(operand1.to01(), 2), 32, temp_op2))[2:].zfill(32)\n",
    "        return result\n",
    "    elif funct == '0000000110':\n",
    "        result = operand1 | operand2\n",
    "        return result.to01()\n",
    "    elif funct == '0000000111':\n",
    "        result = operand1 & operand2\n",
    "        return result.to01()"
   ]
  },
  {
   "cell_type": "code",
   "execution_count": 56,
   "metadata": {},
   "outputs": [],
   "source": [
    "possible_arithmetic = ['0000000000', '0100000000', '0000000001', '0000000010', '0000000011', '0000000100', '0000000101', \n",
    "                       '0100000101', '0000000110', '0000000111']\n",
    "\n",
    "\n",
    "with open('ALU_tcases.txt', 'w') as f:\n",
    "    for opcode in possible_arithmetic:\n",
    "        for _ in range(30):\n",
    "            operand1 = np.random.randint(0, 4294967296, dtype='uint32')\n",
    "            operand2 = np.random.randint(0, 4294967296, dtype='uint32')\n",
    "            operand1 = bitarray(bin(operand1)[2:].zfill(32))\n",
    "            operand2 = bitarray(bin(operand2)[2:].zfill(32))\n",
    "            funct7 = opcode[:7]\n",
    "            funct3 = opcode[7:]\n",
    "            out = ALU(operand1, operand2, funct7, funct3)\n",
    "            write2testfile(f, operand1.to01(), operand2.to01(), funct7, funct3, out)\n"
   ]
  },
  {
   "cell_type": "markdown",
   "metadata": {},
   "source": [
    "# Program Counter Test Cases"
   ]
  },
  {
   "cell_type": "code",
   "execution_count": 64,
   "metadata": {},
   "outputs": [],
   "source": [
    "with open('PC_tcases.txt', 'w') as f:\n",
    "    # simply adding 4 to the address\n",
    "    address = 0x01000000\n",
    "    for t in range(30):\n",
    "        write2testfile(f, '0', hex(address)[2:].zfill(8), hex(address)[2:].zfill(8))\n",
    "        address += 0x4\n",
    "\n",
    "    # randomly pressing reset\n",
    "    address = 0x01000000\n",
    "    for t in range(100):\n",
    "        rst = np.random.randint(0, 2, size=None)\n",
    "        if rst == 1:\n",
    "            address = 0x01000000\n",
    "            write2testfile(f, '1', hex(address)[2:].zfill(8), hex(address)[2:].zfill(8))\n",
    "        else:\n",
    "            write2testfile(f, '0', hex(address)[2:].zfill(8), hex(address)[2:].zfill(8))\n",
    "            address += 0x4"
   ]
  },
  {
   "cell_type": "markdown",
   "metadata": {},
   "source": [
    "# Register File Test Cases"
   ]
  },
  {
   "cell_type": "code",
   "execution_count": 68,
   "metadata": {},
   "outputs": [],
   "source": [
    "with open('reg_tcases.txt', 'w') as f:\n",
    "    # First we write a lot of stuff into the reg file\n",
    "    for i in range(1, 32):\n",
    "        rd = bin(i)[2:].zfill(5)\n",
    "        r1 = '00001'\n",
    "        r2 = '00001'\n",
    "        write_data = bin(i)[2:].zfill(32)\n",
    "        w_en = '1'\n",
    "        r_en = '0'\n",
    "        r1_read = ''.zfill(32)\n",
    "        r2_read = ''.zfill(32)\n",
    "        write2testfile(f, rd, r1, r2, write_data, w_en, r_en, r1_read, r2_read)\n",
    "\n",
    "    # Then we read all the register except r0\n",
    "    for i in range(1, 16):\n",
    "        rd = ''.zfill(5)\n",
    "        r1 = bin(i)[2:].zfill(5)\n",
    "        r2 = bin(2*i)[2:].zfill(5)\n",
    "        write_data = bin(i)[2:].zfill(32)\n",
    "        w_en = '0'\n",
    "        r_en = '1'\n",
    "        r1_read = bin(i)[2:].zfill(32)\n",
    "        r2_read = bin(i*2)[2:].zfill(32)\n",
    "        write2testfile(f, rd, r1, r2, write_data, w_en, r_en, r1_read, r2_read)\n",
    "\n",
    "    # Tried write to 0 and read 0\n",
    "    write2testfile(f, '00000', '00000', '00000', '11111'.zfill(32), '1', '1', ''.zfill(32), ''.zfill(32))\n",
    "    write2testfile(f, '00000', '00000', '00000', '11111'.zfill(32), '1', '1', ''.zfill(32), ''.zfill(32))"
   ]
  },
  {
   "cell_type": "code",
   "execution_count": null,
   "metadata": {},
   "outputs": [],
   "source": []
  }
 ],
 "metadata": {
  "kernelspec": {
   "display_name": "Python 3.8.8 ('dl_class')",
   "language": "python",
   "name": "python3"
  },
  "language_info": {
   "codemirror_mode": {
    "name": "ipython",
    "version": 3
   },
   "file_extension": ".py",
   "mimetype": "text/x-python",
   "name": "python",
   "nbconvert_exporter": "python",
   "pygments_lexer": "ipython3",
   "version": "3.8.8"
  },
  "orig_nbformat": 4,
  "vscode": {
   "interpreter": {
    "hash": "3f4c4b58b56bec0d7d0b99d65fb0ca77edafb9849d00ff6c9cb15db0d3feb748"
   }
  }
 },
 "nbformat": 4,
 "nbformat_minor": 2
}
